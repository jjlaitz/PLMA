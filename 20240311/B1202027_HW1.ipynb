{
  "nbformat": 4,
  "nbformat_minor": 0,
  "metadata": {
    "colab": {
      "provenance": []
    },
    "kernelspec": {
      "name": "python3",
      "display_name": "Python 3"
    },
    "language_info": {
      "name": "python"
    }
  },
  "cells": [
    {
      "cell_type": "code",
      "execution_count": 22,
      "metadata": {
        "colab": {
          "base_uri": "https://localhost:8080/"
        },
        "id": "rp2tzBJy_t12",
        "outputId": "4e83e20a-f72d-4051-a65e-63e50aa9e48d"
      },
      "outputs": [
        {
          "output_type": "stream",
          "name": "stdout",
          "text": [
            "I'm a student\n"
          ]
        }
      ],
      "source": [
        "print(\"I'm a student\")"
      ]
    },
    {
      "cell_type": "code",
      "source": [
        "\n",
        "X1 = input(\"請輸入A點的X座標\")\n",
        "Y1 = input(\"請輸入A點的Y座標\")\n",
        "X2 = input(\"請輸入B點的X座標\")\n",
        "Y2 = input(\"請輸入B點的Y座標\")\n",
        "a = (float(X1)-float(X2))**2\n",
        "b = (float(Y1)-float(Y2))**2\n",
        "c = float(a+b)**0.5\n",
        "print(float(c))"
      ],
      "metadata": {
        "colab": {
          "base_uri": "https://localhost:8080/"
        },
        "id": "clm3L1oCAALQ",
        "outputId": "21aa0a5c-127b-427e-b210-f78abde3c89b"
      },
      "execution_count": 34,
      "outputs": [
        {
          "output_type": "stream",
          "name": "stdout",
          "text": [
            "請輸入A點的X座標0\n",
            "請輸入A點的Y座標0\n",
            "請輸入B點的X座標3\n",
            "請輸入B點的Y座標4\n",
            "5.0\n"
          ]
        }
      ]
    },
    {
      "cell_type": "code",
      "source": [
        "X1 = input(\"請輸入A點的X座標)\")a = int(input('請輸入體重(公斤): '))\n",
        "b = int(input('請輸入身高(公尺): '))\n",
        "a/=(b**2)\n",
        "print(int(a))"
      ],
      "metadata": {
        "colab": {
          "base_uri": "https://localhost:8080/"
        },
        "id": "M7cRuH0EBwbc",
        "outputId": "6836c550-c0ca-4488-b6cb-ba2265f6accd"
      },
      "execution_count": 17,
      "outputs": [
        {
          "output_type": "stream",
          "name": "stdout",
          "text": [
            "請輸入體重(公斤): 100\n",
            "請輸入身高(公尺): 2\n",
            "25\n"
          ]
        }
      ]
    }
  ]
}