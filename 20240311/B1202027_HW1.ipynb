{
  "nbformat": 4,
  "nbformat_minor": 0,
  "metadata": {
    "colab": {
      "provenance": []
    },
    "kernelspec": {
      "name": "python3",
      "display_name": "Python 3"
    },
    "language_info": {
      "name": "python"
    }
  },
  "cells": [
    {
      "cell_type": "code",
      "execution_count": null,
      "metadata": {
        "colab": {
          "base_uri": "https://localhost:8080/"
        },
        "id": "rp2tzBJy_t12",
        "outputId": "4e83e20a-f72d-4051-a65e-63e50aa9e48d"
      },
      "outputs": [
        {
          "output_type": "stream",
          "name": "stdout",
          "text": [
            "I'm a student\n"
          ]
        }
      ],
      "source": [
        "print(\"I'm a student\")"
      ]
    },
    {
      "cell_type": "code",
      "source": [
        "\n",
        "X1 = input(\"請輸入A點的X座標\")\n",
        "Y1 = input(\"請輸入A點的Y座標\")\n",
        "X2 = input(\"請輸入B點的X座標\")\n",
        "Y2 = input(\"請輸入B點的Y座標\")\n",
        "a = (float(X1)-float(X2))**2\n",
        "b = (float(Y1)-float(Y2))**2\n",
        "c = float(a+b)**0.5\n",
        "print(float(c))"
      ],
      "metadata": {
        "colab": {
          "base_uri": "https://localhost:8080/"
        },
        "id": "clm3L1oCAALQ",
        "outputId": "21aa0a5c-127b-427e-b210-f78abde3c89b"
      },
      "execution_count": null,
      "outputs": [
        {
          "output_type": "stream",
          "name": "stdout",
          "text": [
            "請輸入A點的X座標0\n",
            "請輸入A點的Y座標0\n",
            "請輸入B點的X座標3\n",
            "請輸入B點的Y座標4\n",
            "5.0\n"
          ]
        }
      ]
    },
    {
      "cell_type": "code",
      "source": [
        "a = int(input('請輸入體重(公斤): '))\n",
        "b = int(input('請輸入身高(公分): '))\n",
        "b/=100\n",
        "a/=(b**2)\n",
        "print(float(a))"
      ],
      "metadata": {
        "colab": {
          "base_uri": "https://localhost:8080/"
        },
        "id": "M7cRuH0EBwbc",
        "outputId": "ba28a378-454c-4c95-e7e3-b707e4c4d3d2"
      },
      "execution_count": 38,
      "outputs": [
        {
          "output_type": "stream",
          "name": "stdout",
          "text": [
            "請輸入體重(公斤): 100\n",
            "請輸入身高(公分): 100\n",
            "100.0\n"
          ]
        }
      ]
    }
  ]
}