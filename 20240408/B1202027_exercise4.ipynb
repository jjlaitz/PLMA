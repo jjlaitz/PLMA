{
  "nbformat": 4,
  "nbformat_minor": 0,
  "metadata": {
    "colab": {
      "provenance": []
    },
    "kernelspec": {
      "name": "python3",
      "display_name": "Python 3"
    },
    "language_info": {
      "name": "python"
    }
  },
  "cells": [
    {
      "cell_type": "code",
      "execution_count": 6,
      "metadata": {
        "colab": {
          "base_uri": "https://localhost:8080/"
        },
        "id": "6KCuSykcj1Lw",
        "outputId": "fc96e61c-4b80-4d09-a60c-cf69513f3b5d"
      },
      "outputs": [
        {
          "output_type": "stream",
          "name": "stdout",
          "text": [
            "請輸入體重(公斤): 50\n",
            "請輸入身高(公分): 100\n",
            "50.0\n",
            "肥胖\n"
          ]
        }
      ],
      "source": [
        "a = int(input('請輸入體重(公斤): '))\n",
        "b = int(input('請輸入身高(公分): '))\n",
        "b/=100\n",
        "a/=(b**2)\n",
        "print(float(a))\n",
        "if a < 18.5 :\n",
        "  print('過輕')\n",
        "elif 18.5 <= a < 24 :\n",
        "  print('適中')\n",
        "elif 24 <= a < 27 :\n",
        "  print('過重')\n",
        "elif 27 <= a :\n",
        "  print('肥胖')"
      ]
    },
    {
      "cell_type": "code",
      "source": [
        "a  = int(input('請輸入第一個數字'))\n",
        "b  = input('請輸入運算符號')\n",
        "c  = int(input('請輸入第二個數字'))\n",
        "if b == '+' :\n",
        "  d = a + c\n",
        "  print(float(d))\n",
        "elif b == '/' :\n",
        "  d = a / c\n",
        "  print(float(d))\n",
        "elif b == '-' :\n",
        "  d = a - c\n",
        "  print(float(d))\n",
        "elif b == '*' :\n",
        "  d = a * c\n",
        "  print(float(d))\n",
        "else :\n",
        "  print('error')\n"
      ],
      "metadata": {
        "colab": {
          "base_uri": "https://localhost:8080/"
        },
        "id": "pobzt_7bmBfS",
        "outputId": "13c152f3-93be-4213-c73e-4e9c644c92e3"
      },
      "execution_count": 18,
      "outputs": [
        {
          "output_type": "stream",
          "name": "stdout",
          "text": [
            "請輸入第一個數字8\n",
            "請輸入運算符號/\n",
            "請輸入第二個數字2\n",
            "4.0\n"
          ]
        }
      ]
    }
  ]
}