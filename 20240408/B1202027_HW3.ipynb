{
  "nbformat": 4,
  "nbformat_minor": 0,
  "metadata": {
    "colab": {
      "provenance": []
    },
    "kernelspec": {
      "name": "python3",
      "display_name": "Python 3"
    },
    "language_info": {
      "name": "python"
    }
  },
  "cells": [
    {
      "cell_type": "code",
      "execution_count": 1,
      "metadata": {
        "colab": {
          "base_uri": "https://localhost:8080/"
        },
        "id": "ZDzRBQWUu4oZ",
        "outputId": "07f8b436-3fd4-4a24-85fd-3253754b1ce0"
      },
      "outputs": [
        {
          "output_type": "stream",
          "name": "stdout",
          "text": [
            "請輸入年分:1900\n",
            "no閏年\n"
          ]
        }
      ],
      "source": [
        "a = int(input('請輸入年分:'))\n",
        "if a <= 1582 :\n",
        "  if a % 4 == 0 :\n",
        "    print('閏年')\n",
        "  else :\n",
        "    print('no閏年')\n",
        "else :\n",
        "  if a % 4 == 0 :\n",
        "    if a %400 == 0 :\n",
        "      print('閏年')\n",
        "    elif a %100 == 0:\n",
        "      print('no閏年')\n",
        "    else :\n",
        "        print('閏年')\n",
        "  else :\n",
        "    print('no閏年')"
      ]
    }
  ]
}