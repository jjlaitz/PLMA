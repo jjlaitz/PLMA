{
  "nbformat": 4,
  "nbformat_minor": 0,
  "metadata": {
    "colab": {
      "provenance": []
    },
    "kernelspec": {
      "name": "python3",
      "display_name": "Python 3"
    },
    "language_info": {
      "name": "python"
    }
  },
  "cells": [
    {
      "cell_type": "code",
      "execution_count": 16,
      "metadata": {
        "colab": {
          "base_uri": "https://localhost:8080/"
        },
        "id": "3ZgUzQcwfFkP",
        "outputId": "98a28a85-6939-4d35-b5a8-6531821a6465"
      },
      "outputs": [
        {
          "output_type": "stream",
          "name": "stdout",
          "text": [
            "88.33333333333333\n",
            "{'姓名': '賴宏瑋', '性別': '男', '學號': 'M1129020'}\n",
            "95.0\n",
            "{'姓名': '許珈綺', '性別': '女', '學號': 'M1229001'}\n"
          ]
        }
      ],
      "source": [
        "a = {'姓名':'賴宏瑋','性別':'男','作業分數':[95,100,90]}\n",
        "b = {'學號':'M1129020'}\n",
        "c = {**a, **b}\n",
        "import copy\n",
        "d = copy.deepcopy(c)\n",
        "c['作業分數'][1] = 80\n",
        "d['姓名'] = '許珈綺'\n",
        "d['性別'] = '女'\n",
        "d['學號'] = 'M1229001'\n",
        "e = c.pop('作業分數')\n",
        "f = (e[0]+e[1]+e[2])/3\n",
        "print(f)\n",
        "print(c)\n",
        "g = d.pop('作業分數')\n",
        "h = (g[0]+g[1]+g[2])/3\n",
        "print(h)\n",
        "print(d)"
      ]
    },
    {
      "cell_type": "code",
      "source": [
        "a = [100,50,45,60,90,95,80,50]\n",
        "b = [88]\n",
        "c = b + a\n",
        "c[3:6] = [70,50]\n",
        "c.remove(50)\n",
        "d = c.pop(0)\n",
        "f = c.pop()\n",
        "g = d + f\n",
        "print(g)"
      ],
      "metadata": {
        "colab": {
          "base_uri": "https://localhost:8080/"
        },
        "id": "VOFU6zU-karF",
        "outputId": "4b7dafbf-4652-4549-9d27-1429e9a6e588"
      },
      "execution_count": 15,
      "outputs": [
        {
          "output_type": "stream",
          "name": "stdout",
          "text": [
            "138\n"
          ]
        }
      ]
    },
    {
      "cell_type": "code",
      "source": [
        "a = 347//3\n",
        "b = 347%3\n",
        "c = a**b\n",
        "print(c)"
      ],
      "metadata": {
        "colab": {
          "base_uri": "https://localhost:8080/"
        },
        "id": "4Cu8XYAKmB5l",
        "outputId": "b8dd6bf9-5e96-460e-b41f-b1a2db028925"
      },
      "execution_count": 14,
      "outputs": [
        {
          "output_type": "stream",
          "name": "stdout",
          "text": [
            "13225\n"
          ]
        }
      ]
    }
  ]
}