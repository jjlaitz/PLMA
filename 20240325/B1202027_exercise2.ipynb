{
  "nbformat": 4,
  "nbformat_minor": 0,
  "metadata": {
    "colab": {
      "provenance": []
    },
    "kernelspec": {
      "name": "python3",
      "display_name": "Python 3"
    },
    "language_info": {
      "name": "python"
    }
  },
  "cells": [
    {
      "cell_type": "code",
      "execution_count": 17,
      "metadata": {
        "colab": {
          "base_uri": "https://localhost:8080/"
        },
        "id": "UcMxSWmlfxo7",
        "outputId": "c51c34a0-1ad9-4738-c1ba-aa60ef3e616a"
      },
      "outputs": [
        {
          "output_type": "stream",
          "name": "stdout",
          "text": [
            "{'name': '賴宏瑋', 'gender': '男', 'score': [100, 100, 90], 'studentID': 'M1129020'}\n",
            "96.66666666666667\n"
          ]
        }
      ],
      "source": [
        "a = dict(name= '賴宏瑋',gender= '男',score= [85,95,100,90])\n",
        "b = dict(studentID = 'M1129020')\n",
        "a.update(b)\n",
        "a['score'][1] = 100\n",
        "del a['score'][0]\n",
        "print(a)\n",
        "c = a.pop('score')\n",
        "d = c[0]+c[1]+c[2]\n",
        "d/=3\n",
        "print(d)"
      ]
    }
  ]
}