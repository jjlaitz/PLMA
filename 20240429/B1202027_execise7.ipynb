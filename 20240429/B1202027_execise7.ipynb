{
  "nbformat": 4,
  "nbformat_minor": 0,
  "metadata": {
    "colab": {
      "provenance": []
    },
    "kernelspec": {
      "name": "python3",
      "display_name": "Python 3"
    },
    "language_info": {
      "name": "python"
    }
  },
  "cells": [
    {
      "cell_type": "code",
      "source": [],
      "metadata": {
        "id": "TEwaEo6o4JDE"
      },
      "execution_count": null,
      "outputs": []
    },
    {
      "cell_type": "code",
      "source": [
        "a = '*'\n",
        "h = int(input('請輸入高度'))\n",
        "def height(h):\n",
        "  for i in range(h) :\n",
        "    print((' ')*(h-i)+('*')*((2*i)+1))\n",
        "  r = 5\n",
        "  for i in range(r) :\n",
        "    print((' ')*8+('***'))\n",
        "height(h)\n",
        "\n"
      ],
      "metadata": {
        "colab": {
          "base_uri": "https://localhost:8080/"
        },
        "outputId": "1b6b2556-7c4e-42b4-b0f8-a77190c11847",
        "id": "V1sAZoSb4KPO"
      },
      "execution_count": null,
      "outputs": [
        {
          "output_type": "stream",
          "name": "stdout",
          "text": [
            "請輸入高度9\n",
            "         *\n",
            "        ***\n",
            "       *****\n",
            "      *******\n",
            "     *********\n",
            "    ***********\n",
            "   *************\n",
            "  ***************\n",
            " *****************\n",
            "        ***\n",
            "        ***\n",
            "        ***\n",
            "        ***\n",
            "        ***\n"
          ]
        }
      ]
    },
    {
      "cell_type": "code",
      "source": [
        "\n",
        "def BMI(a,b):\n",
        "  a/= 100\n",
        "  a*=a\n",
        "  return b/a\n",
        "try:\n",
        "  a = float(input('請輸入身高(公分): '))\n",
        "  b = float(input('請輸入體重(公斤\n",
        "  ): '))\n",
        "\n",
        "  e = BMI(a,b)\n",
        "  print(f'{BMI(a,b)}')\n",
        "  if e < 18.5 :\n",
        "    print('過輕')\n",
        "  if 18.5 <= e < 24 :\n",
        "    print('適中')\n",
        "  if 24 <=e < 27 :\n",
        "    print('過重')\n",
        "  if 27 <=e :\n",
        "    print('肥胖')\n",
        "except:\n",
        "  print('輸錯東西 重來')\n",
        "\n"
      ],
      "metadata": {
        "colab": {
          "base_uri": "https://localhost:8080/"
        },
        "id": "kNiJ9n8t5Qwm",
        "outputId": "3e6cd004-881d-422d-8e58-362e7b4aee79"
      },
      "execution_count": null,
      "outputs": [
        {
          "output_type": "stream",
          "name": "stdout",
          "text": [
            "請輸入身高(公分): 100\n",
            "請輸入體重(公斤): 50\n",
            "50.0\n",
            "肥胖\n"
          ]
        }
      ]
    }
  ]
}