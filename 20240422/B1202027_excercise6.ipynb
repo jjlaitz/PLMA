{
  "nbformat": 4,
  "nbformat_minor": 0,
  "metadata": {
    "colab": {
      "provenance": []
    },
    "kernelspec": {
      "name": "python3",
      "display_name": "Python 3"
    },
    "language_info": {
      "name": "python"
    }
  },
  "cells": [
    {
      "cell_type": "code",
      "execution_count": null,
      "metadata": {
        "colab": {
          "base_uri": "https://localhost:8080/"
        },
        "id": "bb2D5EJHodYu",
        "outputId": "c65d40d1-b6b0-4336-e081-fe425dd23760"
      },
      "outputs": [
        {
          "output_type": "stream",
          "name": "stdout",
          "text": [
            "1 × 1 = 1   2 × 1 = 2   3 × 1 = 3   4 × 1 = 4   5 × 1 = 5   6 × 1 = 6   7 × 1 = 7   8 × 1 = 8   9 × 1 = 9   \n",
            "1 × 2 = 2   2 × 2 = 4   3 × 2 = 6   4 × 2 = 8   5 × 2 = 10  6 × 2 = 12  7 × 2 = 14  8 × 2 = 16  9 × 2 = 18  \n",
            "1 × 3 = 3   2 × 3 = 6   3 × 3 = 9   4 × 3 = 12  5 × 3 = 15  6 × 3 = 18  7 × 3 = 21  8 × 3 = 24  9 × 3 = 27  \n",
            "1 × 4 = 4   2 × 4 = 8   3 × 4 = 12  4 × 4 = 16  5 × 4 = 20  6 × 4 = 24  7 × 4 = 28  8 × 4 = 32  9 × 4 = 36  \n",
            "1 × 5 = 5   2 × 5 = 10  3 × 5 = 15  4 × 5 = 20  5 × 5 = 25  6 × 5 = 30  7 × 5 = 35  8 × 5 = 40  9 × 5 = 45  \n",
            "1 × 6 = 6   2 × 6 = 12  3 × 6 = 18  4 × 6 = 24  5 × 6 = 30  6 × 6 = 36  7 × 6 = 42  8 × 6 = 48  9 × 6 = 54  \n",
            "1 × 7 = 7   2 × 7 = 14  3 × 7 = 21  4 × 7 = 28  5 × 7 = 35  6 × 7 = 42  7 × 7 = 49  8 × 7 = 56  9 × 7 = 63  \n",
            "1 × 8 = 8   2 × 8 = 16  3 × 8 = 24  4 × 8 = 32  5 × 8 = 40  6 × 8 = 48  7 × 8 = 56  8 × 8 = 64  9 × 8 = 72  \n",
            "1 × 9 = 9   2 × 9 = 18  3 × 9 = 27  4 × 9 = 36  5 × 9 = 45  6 × 9 = 54  7 × 9 = 63  8 × 9 = 72  9 × 9 = 81  \n"
          ]
        }
      ],
      "source": [
        "a = 0\n",
        "b = 0\n",
        "\n",
        "while b <= 8 :\n",
        "  b += 1\n",
        "  a = 1\n",
        "  while a <= 9 :\n",
        "    print(f'{a} × {b} = {a*b:<2d}', end ='  ')\n",
        "    a += 1\n",
        "    if a == 10:\n",
        "      break\n",
        "  print ()"
      ]
    },
    {
      "cell_type": "code",
      "source": [
        "import random\n",
        "b = random.sample(range(1,10),4)\n",
        "print(b)\n",
        "guess = 0\n",
        "while True:\n",
        "  a = input('請輸入一個四位數，不准重複')\n",
        "  A = 0\n",
        "  B = 0\n",
        "  if len(a)> 4 :\n",
        "    print('輸入數字過多，給我重來')\n",
        "  elif len(a) < 4 :\n",
        "    print('輸入數字過少，給我重來')\n",
        "  elif len(a) == 4 :\n",
        "    for i in range (0, 4):\n",
        "       for j in range (0,4):\n",
        "         if int(a[i])==int(b[j]):\n",
        "           if i == j:\n",
        "             A+=1\n",
        "           else:\n",
        "             B+=1\n",
        "    print(f'{a}:{A}A{B}B')\n",
        "    guess += 1\n",
        "  if A == 4:\n",
        "    print(f'終於對了，猜了{guess}次')\n",
        "    break\n",
        "\n",
        "\n"
      ],
      "metadata": {
        "id": "lc8YrJZCCbQ0",
        "colab": {
          "base_uri": "https://localhost:8080/"
        },
        "outputId": "6eb87cb8-78eb-414d-faeb-9403d18daf51"
      },
      "execution_count": 24,
      "outputs": [
        {
          "output_type": "stream",
          "name": "stdout",
          "text": [
            "[8, 4, 2, 7]\n",
            "請輸入一個四位數，不准重複2314\n",
            "2314:0A2B\n",
            "請輸入一個四位數，不准重複9846\n",
            "9846:0A2B\n",
            "請輸入一個四位數，不准重複8420\n",
            "8420:3A0B\n",
            "請輸入一個四位數，不准重複10293\n",
            "輸入數字過多，給我重來\n",
            "請輸入一個四位數，不准重複111\n",
            "輸入數字過少，給我重來\n",
            "請輸入一個四位數，不准重複8427\n",
            "8427:4A0B\n",
            "終於對了，猜了4次\n"
          ]
        }
      ]
    }
  ]
}